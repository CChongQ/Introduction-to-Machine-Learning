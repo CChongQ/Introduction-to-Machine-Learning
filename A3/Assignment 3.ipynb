{
  "nbformat": 4,
  "nbformat_minor": 0,
  "metadata": {
    "colab": {
      "name": "Assignment 3.ipynb",
      "provenance": [],
      "collapsed_sections": []
    },
    "kernelspec": {
      "name": "python3",
      "display_name": "Python 3"
    }
  },
  "cells": [
    {
      "cell_type": "markdown",
      "metadata": {
        "id": "y2kq1o7GiaXu"
      },
      "source": [
        "### **Problem 2**"
      ]
    },
    {
      "cell_type": "code",
      "metadata": {
        "id": "VYdgZh_vii2I"
      },
      "source": [
        "from sklearn import datasets\n",
        "from sklearn.model_selection import train_test_split\n",
        "from sklearn.linear_model import LogisticRegression\n",
        "from sklearn.svm import SVC # \"Support vector classifier\"\n",
        "\n",
        "import matplotlib.pyplot as plt\n",
        "import numpy as np"
      ],
      "execution_count": null,
      "outputs": []
    },
    {
      "cell_type": "code",
      "metadata": {
        "id": "SiLFa8rEi7cY"
      },
      "source": [
        "iris = datasets.load_iris()"
      ],
      "execution_count": null,
      "outputs": []
    },
    {
      "cell_type": "code",
      "metadata": {
        "id": "Id3_Ytqau3X9"
      },
      "source": [
        "num_e =list(range(0,100))\n",
        "data_iris = iris.data[0:100,:2] #first 100 entries, first 2 dimensions\n",
        "target_iris = iris.target[num_e]"
      ],
      "execution_count": null,
      "outputs": []
    },
    {
      "cell_type": "code",
      "metadata": {
        "id": "8R4VMQAhu3xG"
      },
      "source": [
        "d_train, d_test,t_train,t_test = train_test_split(data_iris,target_iris, test_size=0.8, random_state=0) # test_size=0.8"
      ],
      "execution_count": null,
      "outputs": []
    },
    {
      "cell_type": "code",
      "metadata": {
        "id": "Pb_wjfDc3B5_"
      },
      "source": [
        "def plot_decision_function (model,d_data,t_target, ax=None, plot_support=True):\n",
        "    if ax is None:\n",
        "        ax = plt.gca()\n",
        "    xlim = ax.get_xlim()\n",
        "    ylim = ax.get_ylim()\n",
        "    \n",
        "    x_min, x_max = d_data[:,0].min() - 0.5, d_data[:,0].max() + 0.5\n",
        "    y_min, y_max = d_data[:,1].min() - 0.5, d_data[:,1].max() + 0.5\n",
        "\n",
        "    h = 0.02\n",
        "    xx, yy = np.meshgrid(np.arange(x_min, x_max, h), np.arange(y_min, y_max,h))\n",
        "    pred_result = model.decision_function(np.c_[xx.ravel(), yy.ravel()])\n",
        "    pred_result = pred_result.reshape(xx.shape)\n",
        "\n",
        "    \n",
        "    if plot_support:\n",
        "      #Plot decision boundary\n",
        "      d_boundary = plt.contour(xx, yy, pred_result,levels=[-1, 0, 1],\n",
        "                 alpha=0.5,linestyles=['--', '-', '--'], colors='k')\n",
        "      #circle support vector\n",
        "      plt.scatter(model.support_vectors_[:, 0],\n",
        "                   model.support_vectors_[:, 1],\n",
        "                   s=300, linewidth=1, facecolors='none',edgecolor='b');\n",
        "    else:\n",
        "      plt.contour(xx, yy, pred_result,levels=[0],\n",
        "                 linestyles=['-'],linewidths=1,colors='k')\n",
        "      \n",
        "    ax.set_xlim(xlim)\n",
        "    ax.set_ylim(ylim)"
      ],
      "execution_count": null,
      "outputs": []
    },
    {
      "cell_type": "markdown",
      "metadata": {
        "id": "BzGH_ejiijRk"
      },
      "source": [
        "#### **1.**\n",
        "\n",
        "Implement a binary linear classifier"
      ]
    },
    {
      "cell_type": "code",
      "metadata": {
        "id": "e9DSX688E1Rm",
        "colab": {
          "base_uri": "https://localhost:8080/",
          "height": 100
        },
        "outputId": "de0645cc-41ba-4e90-8c85-f71a5eaf02da"
      },
      "source": [
        "model_logReg = LogisticRegression()\n",
        "model_logReg.fit(d_train, t_train)"
      ],
      "execution_count": null,
      "outputs": [
        {
          "output_type": "execute_result",
          "data": {
            "text/plain": [
              "LogisticRegression(C=1.0, class_weight=None, dual=False, fit_intercept=True,\n",
              "                   intercept_scaling=1, l1_ratio=None, max_iter=100,\n",
              "                   multi_class='auto', n_jobs=None, penalty='l2',\n",
              "                   random_state=None, solver='lbfgs', tol=0.0001, verbose=0,\n",
              "                   warm_start=False)"
            ]
          },
          "metadata": {
            "tags": []
          },
          "execution_count": 28
        }
      ]
    },
    {
      "cell_type": "code",
      "metadata": {
        "id": "17XFrLXe361R",
        "colab": {
          "base_uri": "https://localhost:8080/",
          "height": 295
        },
        "outputId": "2c4b201f-d9b2-4859-f4d0-bb7233cf9dd3"
      },
      "source": [
        "plt.figure(1)\n",
        "# #Plot training point\n",
        "plt.title('Figure 1 - LogisticRegression')\n",
        "plt.scatter(d_train[:, 0], d_train[:, 1], c=t_train, s=50, cmap='autumn',edgecolors='black')\n",
        "plt.xlabel('Sepal length')\n",
        "plt.ylabel('Sepal width')\n",
        "plot_decision_function(model_logReg,d_train,t_train,plot_support=False)"
      ],
      "execution_count": null,
      "outputs": [
        {
          "output_type": "display_data",
          "data": {
            "image/png": "[encoded data removed]",
            "text/plain": [
              "<Figure size 432x288 with 1 Axes>"
            ]
          },
          "metadata": {
            "tags": [],
            "needs_background": "light"
          }
        }
      ]
    },
    {
      "cell_type": "markdown",
      "metadata": {
        "id": "9kcGfi5svGPP"
      },
      "source": [
        "#### **2.**"
      ]
    },
    {
      "cell_type": "code",
      "metadata": {
        "id": "1ukY0nolks6F",
        "colab": {
          "base_uri": "https://localhost:8080/",
          "height": 50
        },
        "outputId": "1d2f0925-e6be-4c5e-ade5-024d571cdc65"
      },
      "source": [
        "print('Accuracy on training set: ', model_logReg.score(d_train, t_train)*100,'%')\n",
        "print('Accuracy on test set: ',model_logReg.score(d_test, t_test)*100,'%')"
      ],
      "execution_count": null,
      "outputs": [
        {
          "output_type": "stream",
          "text": [
            "Accuracy on training set:  100.0 %\n",
            "Accuracy on test set:  98.75 %\n"
          ],
          "name": "stdout"
        }
      ]
    },
    {
      "cell_type": "markdown",
      "metadata": {
        "id": "qInvSrwtCVQi"
      },
      "source": [
        "#### **3.**\n",
        "\n",
        "Implement a linear SVM classifier\n",
        "\n",
        "**tes size = 0.8**"
      ]
    },
    {
      "cell_type": "code",
      "metadata": {
        "id": "1_0g8e3-UbDI",
        "colab": {
          "base_uri": "https://localhost:8080/",
          "height": 84
        },
        "outputId": "dd44b927-d845-4615-e892-0d85b7449181"
      },
      "source": [
        "model_SVM_1 = SVC(kernel='linear',C=1e10)\n",
        "model_SVM_1.fit(d_train, t_train)"
      ],
      "execution_count": null,
      "outputs": [
        {
          "output_type": "execute_result",
          "data": {
            "text/plain": [
              "SVC(C=10000000000.0, break_ties=False, cache_size=200, class_weight=None,\n",
              "    coef0=0.0, decision_function_shape='ovr', degree=3, gamma='scale',\n",
              "    kernel='linear', max_iter=-1, probability=False, random_state=None,\n",
              "    shrinking=True, tol=0.001, verbose=False)"
            ]
          },
          "metadata": {
            "tags": []
          },
          "execution_count": 16
        }
      ]
    },
    {
      "cell_type": "code",
      "metadata": {
        "id": "syAp0zkT4ssg",
        "colab": {
          "base_uri": "https://localhost:8080/",
          "height": 295
        },
        "outputId": "09cf2741-e8cd-4181-cd4c-76bb48b12c50"
      },
      "source": [
        "plt.figure(2)\n",
        "plt.title('Figure 2 - tes_size = 0.8')\n",
        "plt.scatter(d_train[:, 0], d_train[:, 1], c=t_train, s=50, cmap='autumn',edgecolors='black')\n",
        "plt.xlabel('Sepal length')\n",
        "plt.ylabel('Sepal width')\n",
        "plot_decision_function(model_SVM_1,d_train,t_train,plot_support=True)"
      ],
      "execution_count": null,
      "outputs": [
        {
          "output_type": "display_data",
          "data": {
            "image/png": "[encoded data removed]",
            "text/plain": [
              "<Figure size 432x288 with 1 Axes>"
            ]
          },
          "metadata": {
            "tags": [],
            "needs_background": "light"
          }
        }
      ]
    },
    {
      "cell_type": "markdown",
      "metadata": {
        "id": "lzkNP1VD8nzg"
      },
      "source": [
        "#### **4.**\n",
        "\n",
        "Support vectors are circled in Figure 2.\n",
        "\n",
        "Based on KKT condition, there are two cases for $α^i((w^T x^i+b)y^i-1)=0$:\n",
        "1.  $α^i = 0$, $(w^T x^i+b)y^i >1$\n",
        "2.  $α^i >0 $, $(w^T x^i+b)y^i =1$\n",
        "\n",
        "$α^i> 0$ for support vector, so $(w^T x^i+b)y^i =1$.\n",
        "\n",
        "When the distance between training points and the classifier's decision boundary is at minimum, $(w^T x^i+b)y^i =1$ . The above classifier is a hard margin SVM, so the support vectors lie on the margins.\n",
        "\n",
        "\n"
      ]
    },
    {
      "cell_type": "markdown",
      "metadata": {
        "id": "k77ThsfS8mMm"
      },
      "source": [
        "#### **5.**"
      ]
    },
    {
      "cell_type": "code",
      "metadata": {
        "id": "6R6ncCtDSJZk",
        "colab": {
          "base_uri": "https://localhost:8080/",
          "height": 50
        },
        "outputId": "7d59ce71-18de-4432-a87d-2855cd117783"
      },
      "source": [
        "print('Training Accuracy = ', model_SVM_1.score(d_train, t_train)*100,'%')\n",
        "print('Test Accuracy = ',model_SVM_1.score(d_test, t_test)*100,'%')"
      ],
      "execution_count": null,
      "outputs": [
        {
          "output_type": "stream",
          "text": [
            "Training Accuracy =  100.0 %\n",
            "Test Accuracy =  100.0 %\n"
          ],
          "name": "stdout"
        }
      ]
    },
    {
      "cell_type": "markdown",
      "metadata": {
        "id": "ik0o6W7wD5nG"
      },
      "source": [
        "#### **6.** \n",
        "\n",
        "The value of margin = 0.21215037731981287.\n",
        "\n",
        "A classifier is invariant to rescaling of w, the margin is equal to $1/||w||$. \n",
        "\n",
        "The `.coef_` attribtue is the weights assigned to features, so `w = model.coef_`\n"
      ]
    },
    {
      "cell_type": "code",
      "metadata": {
        "id": "WMeyP2fVaZP7",
        "colab": {
          "base_uri": "https://localhost:8080/",
          "height": 34
        },
        "outputId": "517e0f5e-4ed7-4c20-c793-7dd2cf708e3c"
      },
      "source": [
        "margin = 1 / np.sqrt(np.sum(model_SVM_1.coef_ ** 2))\n",
        "print('Margin = ',margin)"
      ],
      "execution_count": null,
      "outputs": [
        {
          "output_type": "stream",
          "text": [
            "Margin =  0.21215037731981287\n"
          ],
          "name": "stdout"
        }
      ]
    },
    {
      "cell_type": "markdown",
      "metadata": {
        "id": "5VGJriHVHAcj"
      },
      "source": [
        "#### **7.**\n",
        "\n",
        "The *weight vector w* is orthogonal to the decision boundary"
      ]
    },
    {
      "cell_type": "markdown",
      "metadata": {
        "id": "gublX3blS-x8"
      },
      "source": [
        "#### **8.**\n",
        "\n",
        "**tes size = 0.4**"
      ]
    },
    {
      "cell_type": "code",
      "metadata": {
        "id": "SLsanbJyTCfp"
      },
      "source": [
        "d_train_2, d_test_2,t_train_2,t_test_2 = train_test_split(data_iris,target_iris, test_size=0.4, random_state=0)"
      ],
      "execution_count": null,
      "outputs": []
    },
    {
      "cell_type": "code",
      "metadata": {
        "id": "RKG61UjtU7AT",
        "colab": {
          "base_uri": "https://localhost:8080/",
          "height": 84
        },
        "outputId": "6abee365-a60d-44fb-86d1-58f1f435bbcb"
      },
      "source": [
        "model_SVM_2 = SVC(kernel='linear',C=1e10)\n",
        "model_SVM_2.fit(d_train_2, t_train_2)"
      ],
      "execution_count": null,
      "outputs": [
        {
          "output_type": "execute_result",
          "data": {
            "text/plain": [
              "SVC(C=10000000000.0, break_ties=False, cache_size=200, class_weight=None,\n",
              "    coef0=0.0, decision_function_shape='ovr', degree=3, gamma='scale',\n",
              "    kernel='linear', max_iter=-1, probability=False, random_state=None,\n",
              "    shrinking=True, tol=0.001, verbose=False)"
            ]
          },
          "metadata": {
            "tags": []
          },
          "execution_count": 23
        }
      ]
    },
    {
      "cell_type": "code",
      "metadata": {
        "id": "pAraBiUOVBJ7",
        "colab": {
          "base_uri": "https://localhost:8080/",
          "height": 295
        },
        "outputId": "080940bd-b822-4d73-ac74-06d2e9437daf"
      },
      "source": [
        "plt.figure(3)\n",
        "plt.title('Figure 3 - tes_size = 0.4')\n",
        "plt.scatter(d_train_2[:, 0], d_train_2[:, 1], c=t_train_2, s=50, cmap='autumn',edgecolors='black')\n",
        "plt.xlabel('Sepal length')\n",
        "plt.ylabel('Sepal width')\n",
        "plot_decision_function(model_SVM_2,d_train_2,t_train_2,plot_support=True) "
      ],
      "execution_count": null,
      "outputs": [
        {
          "output_type": "display_data",
          "data": {
            "image/png": "[encoded data removed]",
            "text/plain": [
              "<Figure size 432x288 with 1 Axes>"
            ]
          },
          "metadata": {
            "tags": [],
            "needs_background": "light"
          }
        }
      ]
    },
    {
      "cell_type": "code",
      "metadata": {
        "id": "QRZEEDV8T4N4",
        "colab": {
          "base_uri": "https://localhost:8080/",
          "height": 50
        },
        "outputId": "84670947-a918-40e4-afad-2a0d3f92e6cf"
      },
      "source": [
        "print('Training Accuracy = ', model_SVM_2.score(d_train_2, t_train_2)*100,'%')\n",
        "print('Test Accuracy = ',model_SVM_2.score(d_test_2, t_test_2)*100,'%')"
      ],
      "execution_count": null,
      "outputs": [
        {
          "output_type": "stream",
          "text": [
            "Training Accuracy =  100.0 %\n",
            "Test Accuracy =  100.0 %\n"
          ],
          "name": "stdout"
        }
      ]
    },
    {
      "cell_type": "markdown",
      "metadata": {
        "id": "pdmX3cqCY2LJ"
      },
      "source": [
        "Trainning accuracy is still 1.0\n",
        "Test accuracy is 1.0.\n",
        "The decision boundary changes.\n",
        "\n",
        "The  decision boundary is to maximize the distance to the closest point from each class, it is dependent on the points(i.e. support vectors) that are very close to the hyperplane. \n",
        "\n",
        "By increase the percentage of training data from 20% to 60%, more training points are used, the model is able to learn more pattern and thus (a) the accuracy could become higher (b) when a new point is a support vector, the decision boundary could be affected. \n",
        "\n",
        "The above figure (Figure 3) shows that the support vectors are different compared to the support vector of `test_size=0.8 ` figure (Figure 2), the decision boundary changed. \n",
        "\n"
      ]
    },
    {
      "cell_type": "markdown",
      "metadata": {
        "id": "z1iJRkY0MEhr"
      },
      "source": [
        "#### **9.**\n",
        "\n",
        "According to Figure 1 and Figure 2,  binary linear classifier and SVM do not have same decision boundaries"
      ]
    },
    {
      "cell_type": "markdown",
      "metadata": {
        "id": "hhkLBi6_NRZI"
      },
      "source": [
        "#### **10.**"
      ]
    },
    {
      "cell_type": "markdown",
      "metadata": {
        "id": "o-Lenw9naXX-"
      },
      "source": [
        "**All 150 entries**\n",
        "\n",
        "When data is non-linearly separable, a linear SVM will perform poorly, so we need to use non-linear **kernel** functions such as RBF(Gaussian) and polynomial  kernel, which can be used as the similarity matric when generalize similarity between training points and the chosen landmark points\n",
        "\n",
        "The below new proposed classifier uses Gausian kernel. "
      ]
    },
    {
      "cell_type": "code",
      "metadata": {
        "id": "yS1Lcsd5abF6"
      },
      "source": [
        "iris = datasets.load_iris()\n",
        "data_all = iris.data[:,:2]\n",
        "target_all = iris.target\n",
        "d_train_3, d_test_3,t_train_3,t_test_3 = train_test_split(data_all,target_all, test_size=0.4, random_state=0)"
      ],
      "execution_count": null,
      "outputs": []
    },
    {
      "cell_type": "code",
      "metadata": {
        "id": "ZP9pO7uNRNBx"
      },
      "source": [
        "from sklearn import svm "
      ],
      "execution_count": null,
      "outputs": []
    },
    {
      "cell_type": "code",
      "metadata": {
        "id": "p5R-4DsQaP3m",
        "colab": {
          "base_uri": "https://localhost:8080/",
          "height": 84
        },
        "outputId": "c225396c-b7c9-43a9-9e1d-c1804abd6e41"
      },
      "source": [
        "model_SVM_3 = SVC(kernel='rbf', degree=3,C=1)\n",
        "model_SVM_3.fit(d_train_3, t_train_3)"
      ],
      "execution_count": null,
      "outputs": [
        {
          "output_type": "execute_result",
          "data": {
            "text/plain": [
              "SVC(C=1, break_ties=False, cache_size=200, class_weight=None, coef0=0.0,\n",
              "    decision_function_shape='ovr', degree=3, gamma='scale', kernel='rbf',\n",
              "    max_iter=-1, probability=False, random_state=None, shrinking=True,\n",
              "    tol=0.001, verbose=False)"
            ]
          },
          "metadata": {
            "tags": []
          },
          "execution_count": 35
        }
      ]
    },
    {
      "cell_type": "code",
      "metadata": {
        "id": "bRgDXfpfNkbi",
        "colab": {
          "base_uri": "https://localhost:8080/",
          "height": 312
        },
        "outputId": "42431a6a-b161-47bb-833a-de2a4d4e0d95"
      },
      "source": [
        "h = .02\n",
        "x_min, x_max = d_train_3[:, 0].min() - 0.3, d_train_3[:, 0].max() + 0.3\n",
        "y_min, y_max = d_train_3[:, 1].min() - 0.3, d_train_3[:, 1].max() + 0.3\n",
        "xx, yy = np.meshgrid(np.arange(x_min, x_max, h),\n",
        "                     np.arange(y_min, y_max, h))\n",
        "Z = model_SVM_3.predict(np.c_[xx.ravel(), yy.ravel()])\n",
        "Z = Z.reshape(xx.shape)\n",
        "\n",
        "plt.figure(4)\n",
        "plt.title('Figure 4 - 150 entries')\n",
        "\n",
        "plt.xlabel('Sepal length')\n",
        "plt.ylabel('Sepal width')\n",
        "plt.pcolormesh(xx, yy, Z)\n",
        "\n",
        "plt.scatter(d_train_3[:, 0], d_train_3[:, 1], c=t_train_3, s=50, cmap='autumn', edgecolors='black')\n"
      ],
      "execution_count": null,
      "outputs": [
        {
          "output_type": "execute_result",
          "data": {
            "text/plain": [
              "<matplotlib.collections.PathCollection at 0x7f5731b869e8>"
            ]
          },
          "metadata": {
            "tags": []
          },
          "execution_count": 36
        },
        {
          "output_type": "display_data",
          "data": {
            "image/png": "[encoded data removed]",
            "text/plain": [
              "<Figure size 432x288 with 1 Axes>"
            ]
          },
          "metadata": {
            "tags": [],
            "needs_background": "light"
          }
        }
      ]
    }
  ]
}