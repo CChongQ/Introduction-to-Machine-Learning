{
 "cells": [
  {
   "cell_type": "markdown",
   "metadata": {
    "id": "au9M9haMXwos"
   },
   "source": [
    "### **Problem 1. Clustering with κ-means**\n"
   ]
  },
  {
   "cell_type": "code",
   "execution_count": null,
   "metadata": {
    "id": "QB--fsAS8qVP"
   },
   "outputs": [],
   "source": [
    "import numpy as np\n",
    "from sklearn.datasets import load_breast_cancer\n",
    "import matplotlib as mpl\n",
    "import matplotlib.pyplot as plt"
   ]
  },
  {
   "cell_type": "markdown",
   "metadata": {
    "id": "vlBysKMt8rtI"
   },
   "source": [
    "#### **1.1**\n",
    "\n",
    "K-means algorithm "
   ]
  },
  {
   "cell_type": "code",
   "execution_count": null,
   "metadata": {
    "id": "tMUNYguRHMyp"
   },
   "outputs": [],
   "source": [
    "#main function\n",
    "def k_means(dataset,k,epoch):\n",
    "  #initialization\n",
    "  data_shape= dataset.shape\n",
    "  init_trial = 0\n",
    "  init_distortion = float(\"inf\")\n",
    "  init_centroids = []\n",
    "  init_cluster = []\n",
    "  size_p = data_shape[0]\n",
    "    \n",
    "  #Find random initialization that yields the minumun distortion\n",
    "  #set initial trial = 10\n",
    "  while init_trial<10:\n",
    "    ran_index = np.random.randint(size_p,size=k)\n",
    "    temp_cen = dataset[ran_index,:]\n",
    "    temp_index = get_targetIndex(temp_cen,dataset)\n",
    "\n",
    "    #corner case: no point is assigned to an centroid\n",
    "    help_con = helper_uni(temp_index,k)\n",
    "\n",
    "    if help_con==True:   \n",
    "      temp_centroids,temp_clusters = group_points(dataset,temp_index,temp_cen)     \n",
    "      temp_distor = get_distortion(temp_centroids,temp_clusters,size_p)\n",
    "\n",
    "      #Find centroids with minimum distortion \n",
    "      if temp_distor < init_distortion:\n",
    "        init_distortion = temp_distor\n",
    "        init_centroids = temp_cen\n",
    "        init_cluster = temp_clusters\n",
    "\n",
    "    init_trial+=1\n",
    "\n",
    "\n",
    "  #Training Epochs\n",
    "  centroid_result = init_centroids\n",
    "  cluster_result = init_cluster\n",
    "  for i in range(epoch):\n",
    "    update_index = get_targetIndex(centroid_result,dataset) #update point assignment\n",
    "    temp_cen_2,temp_cluster_2 = group_points(dataset,update_index,centroid_result) #new centroids and new assignment\n",
    "    \n",
    "    #evaluate distortion\n",
    "    temp_distor_2 = get_distortion(temp_cen_2,temp_cluster_2,size_p) \n",
    "    if temp_distor_2 <= init_distortion:\n",
    "      init_distortion = temp_distor_2\n",
    "      centroid_result = temp_cen_2\n",
    "      cluster_result = temp_cluster_2\n",
    " \n",
    "  return centroid_result,cluster_result\n"
   ]
  },
  {
   "cell_type": "code",
   "execution_count": null,
   "metadata": {
    "id": "-nKAY7LgH3sU"
   },
   "outputs": [],
   "source": [
    "#Find cluster assignment of each centroid, and calculate the new centroids use mean function\n",
    "def group_points(data,assign_index,cen):\n",
    "  new_centroids =[]\n",
    "  cluster_assignment =[]\n",
    "\n",
    "  for i in range(cen.shape[0]):\n",
    "    point_group = data[np.where(assign_index==i)]  #cluster assignment #shape = (# of points, 30)\n",
    "    cluster_assignment.append(point_group)\n",
    "    new_cen = np.mean(point_group,axis=0) # new centroid \n",
    "    new_centroids.append(new_cen)\n",
    "  \n",
    "  new_centroids = np.array(new_centroids)\n",
    "  cluster_assignment = np.array(cluster_assignment)\n",
    "\n",
    "  return new_centroids,cluster_assignment"
   ]
  },
  {
   "cell_type": "code",
   "execution_count": null,
   "metadata": {
    "id": "A3W77sGZ2nDL"
   },
   "outputs": [],
   "source": [
    "#Find the assigned centroid of each training point\n",
    "def get_targetIndex(cen,data):\n",
    "  distances = ((data - cen[:,np.newaxis])**2).sum(axis=2) #squared euclidean distance #shape =(2, 569, 30)\n",
    "  index = np.argmin(distances, axis=0) #shape = (2, 569)\n",
    "  return  index"
   ]
  },
  {
   "cell_type": "code",
   "execution_count": null,
   "metadata": {
    "id": "moAXHaQTjwkg"
   },
   "outputs": [],
   "source": [
    "#Find distortion\n",
    "def get_distortion(cen,clusters,m):\n",
    "  temp=[]\n",
    " \n",
    "  for index,cen in enumerate(cen):\n",
    "    distortion_temp = ((clusters[index] - cen)**2).sum() #squared euclidean distance\n",
    "    temp.append(distortion_temp)\n",
    "\n",
    "  result = sum(temp)/m\n",
    "\n",
    "  return result\n"
   ]
  },
  {
   "cell_type": "code",
   "execution_count": null,
   "metadata": {
    "id": "ZZoYijFFtjZ0"
   },
   "outputs": [],
   "source": [
    "def helper_uni(index_list,k):\n",
    "  temp = range(k)\n",
    "  in_u = set(index_list)\n",
    "  result = True\n",
    "  for each in temp:\n",
    "    if (each not in in_u):\n",
    "      result=False\n",
    "      break\n",
    "  \n",
    "  return result"
   ]
  },
  {
   "cell_type": "markdown",
   "metadata": {
    "id": "Y3sPLuFX1CDr"
   },
   "source": [
    "#### **1.2**\n",
    "\n",
    "The main function of the k-means algorithm is `k_means(dataset,k,epoch)`. Three variables were passed to the function\n",
    "\n",
    "\n",
    "*  an array of data\n",
    "*  value of k\n",
    "* number of training epoch\n",
    "\n",
    "The value of k increments by 1\n",
    "\n",
    "\n",
    "\n"
   ]
  },
  {
   "cell_type": "code",
   "execution_count": null,
   "metadata": {
    "id": "znxabWK62T_l"
   },
   "outputs": [],
   "source": [
    "dataset = load_breast_cancer()\n",
    "dataset = dataset.data\n",
    "m=dataset.shape[0]\n",
    "\n",
    "k=2\n",
    "upperk = 7\n",
    "increment = 1\n",
    "epoch=20\n",
    "distortions = [] #distortion achieved of each k\n"
   ]
  },
  {
   "cell_type": "code",
   "execution_count": null,
   "metadata": {
    "colab": {
     "base_uri": "https://localhost:8080/",
     "height": 230
    },
    "id": "TsSsyMjU2teY",
    "outputId": "a2516b79-88e8-40ef-85c7-e56c9b2fd369"
   },
   "outputs": [
    {
     "name": "stdout",
     "output_type": "stream",
     "text": [
      "k =  2\n",
      "Distortion =  136982.60084059552\n",
      "k =  3\n",
      "Distortion =  88793.00357607732\n",
      "k =  4\n",
      "Distortion =  51364.74807026325\n",
      "k =  5\n",
      "Distortion =  36350.012788761844\n",
      "k =  6\n",
      "Distortion =  31041.12131198628\n",
      "k =  7\n",
      "Distortion =  27000.319715203408\n"
     ]
    }
   ],
   "source": [
    "while k <= upperk:\n",
    "  print('k = ',k)\n",
    "  result_centroid,result_cluster= k_means(dataset,k,epoch)\n",
    "  temp_distor = get_distortion(result_centroid,result_cluster,m)\n",
    "  print('Distortion = ',temp_distor)\n",
    "  distortions.append(temp_distor) \n",
    "  k+=1\n"
   ]
  },
  {
   "cell_type": "markdown",
   "metadata": {
    "id": "7FuxRioY35FS"
   },
   "source": [
    "#### **1.3**\n",
    "\n",
    "Plot the distortion achieved by κ-means for values of κ varying between 2\n",
    "and 7, at increments of 1.\n",
    "\n",
    "The value of distortion can be found from Problem 1.2"
   ]
  },
  {
   "cell_type": "code",
   "execution_count": null,
   "metadata": {
    "colab": {
     "base_uri": "https://localhost:8080/",
     "height": 295
    },
    "id": "fNpq2d17EzSi",
    "outputId": "72b202fc-0a83-4163-e254-73780c630adc"
   },
   "outputs": [
    {
     "data": {
      "image/png": "[encoded data removed]",
      "text/plain": [
       "<Figure size 432x288 with 1 Axes>"
      ]
     },
     "metadata": {
      "needs_background": "light",
      "tags": []
     },
     "output_type": "display_data"
    }
   ],
   "source": [
    "x = list(range(2,k))\n",
    "\n",
    "plt.plot(x,distortions,c='blue',label='Distortion')\n",
    "plt.title('Distortion Achieved by Different K')\n",
    "plt.xlabel(\"K\")\n",
    "plt.ylabel(\"Distortion\")\n",
    "plt.legend(loc='upper right')\n",
    "plt.show()"
   ]
  },
  {
   "cell_type": "markdown",
   "metadata": {
    "id": "vajOVreW4-CM"
   },
   "source": [
    "#### **1.4** \n",
    "\n",
    "**Answer:**\n",
    "\n",
    "I will pick `k = 4`\n",
    "\n",
    "\n",
    "\n",
    "\n"
   ]
  }
 ],
 "metadata": {
  "colab": {
   "collapsed_sections": [],
   "name": "Assignment 1.ipynb",
   "provenance": []
  },
  "kernelspec": {
   "display_name": "Python 3",
   "language": "python",
   "name": "python3"
  },
  "language_info": {
   "codemirror_mode": {
    "name": "ipython",
    "version": 3
   },
   "file_extension": ".py",
   "mimetype": "text/x-python",
   "name": "python",
   "nbconvert_exporter": "python",
   "pygments_lexer": "ipython3",
   "version": "3.7.6"
  }
 },
 "nbformat": 4,
 "nbformat_minor": 1
}
